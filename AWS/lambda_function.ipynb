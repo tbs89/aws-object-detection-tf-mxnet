{
 "cells": [
  {
   "cell_type": "code",
   "execution_count": 1,
   "id": "32c0d0f4",
   "metadata": {},
   "outputs": [
    {
     "data": {
      "text/plain": [
       "'This script contains the code for the Lambda Funcion'"
      ]
     },
     "execution_count": 1,
     "metadata": {},
     "output_type": "execute_result"
    }
   ],
   "source": [
    "\"\"\"This script contains the code for the Lambda Funcion\"\"\""
   ]
  },
  {
   "cell_type": "markdown",
   "id": "84338fb9",
   "metadata": {},
   "source": [
    "**It is important to set the endpoint as an environment variables and give the lambda role permission to invoke endpoint in Sagemaker**\n",
    "\n",
    "\n",
    "![data](images/lambda1.png)"
   ]
  },
  {
   "cell_type": "code",
   "execution_count": null,
   "id": "59a8cafe",
   "metadata": {},
   "outputs": [],
   "source": [
    "import json\n",
    "import boto3\n",
    "import base64\n",
    "import os\n",
    "\n",
    "# Environment variables\n",
    "endpoint_name = os.environ[\"ENDPOINT_NAME\"] \n",
    "runtime = boto3.client(\"runtime.sagemaker\")\n",
    "\n",
    "def lambda_handler(event, context):\n",
    "    \n",
    "    # Get the encoded image\n",
    "    encoded_image_data = event[\"image\"]\n",
    "    \n",
    "    decoded_image = base64.b64decode(encoded_image_data)\n",
    "    \n",
    "    image_byte_array = bytearray(decoded_image)\n",
    "\n",
    "    # Get model detections passing the endode image\n",
    "    detections = get_detections(image_byte_array)\n",
    "    \n",
    "    return {\n",
    "        'statusCode': 200,\n",
    "        'body': json.dumps({\n",
    "            'detections': detections\n",
    "        })\n",
    "    }\n",
    "\n",
    "def get_detections(image):\n",
    "    response = runtime.invoke_endpoint(\n",
    "        EndpointName=endpoint_name, \n",
    "        ContentType=\"image/jpeg\", \n",
    "        Body=image\n",
    "    )\n",
    "    \n",
    "    results = json.loads(response[\"Body\"].read())\n",
    "    detections = results[\"prediction\"]"
   ]
  }
 ],
 "metadata": {
  "kernelspec": {
   "display_name": "Python 3 (ipykernel)",
   "language": "python",
   "name": "python3"
  },
  "language_info": {
   "codemirror_mode": {
    "name": "ipython",
    "version": 3
   },
   "file_extension": ".py",
   "mimetype": "text/x-python",
   "name": "python",
   "nbconvert_exporter": "python",
   "pygments_lexer": "ipython3",
   "version": "3.11.4"
  }
 },
 "nbformat": 4,
 "nbformat_minor": 5
}
