{
 "cells": [
  {
   "cell_type": "markdown",
   "id": "f2d6757d",
   "metadata": {},
   "source": [
    "# 2 - Data Preprocessing"
   ]
  },
  {
   "cell_type": "markdown",
   "id": "c1dbd2eb",
   "metadata": {},
   "source": [
    "This is the second notebook of our project. In this notebook, we will process our data following the steps outlined below:\n",
    "\n",
    "- Filter our data with the our label\n",
    "- Split the data for test and training\n",
    "- Generate and move images to a test folder\n",
    "- Save the csv's to train the model"
   ]
  },
  {
   "cell_type": "markdown",
   "id": "b922fdb3",
   "metadata": {},
   "source": [
    "**Let's import the functions to process the data**"
   ]
  },
  {
   "cell_type": "code",
   "execution_count": 1,
   "id": "e578a94d",
   "metadata": {},
   "outputs": [],
   "source": [
    "# to load, filter and save datasets\n",
    "from utils.data_eda_viz_preprocessing import load_csv_as_dataset\n",
    "from utils.data_preprocess import clean_dataframe\n",
    "from utils.data_preprocess import save_datasets_to_csv\n",
    "\n",
    "# to create folders and move images\n",
    "from utils.data_preprocess import create_test_folder\n",
    "from utils.data_preprocess import move_images_to_test_folder\n",
    "import glob\n",
    "\n",
    "# to split our data\n",
    "from sklearn.model_selection import train_test_split\n",
    "\n",
    "# others\n",
    "import numpy as np"
   ]
  },
  {
   "cell_type": "code",
   "execution_count": 2,
   "id": "e883d9fe",
   "metadata": {},
   "outputs": [
    {
     "data": {
      "text/html": [
       "<div>\n",
       "<style scoped>\n",
       "    .dataframe tbody tr th:only-of-type {\n",
       "        vertical-align: middle;\n",
       "    }\n",
       "\n",
       "    .dataframe tbody tr th {\n",
       "        vertical-align: top;\n",
       "    }\n",
       "\n",
       "    .dataframe thead th {\n",
       "        text-align: right;\n",
       "    }\n",
       "</style>\n",
       "<table border=\"1\" class=\"dataframe\">\n",
       "  <thead>\n",
       "    <tr style=\"text-align: right;\">\n",
       "      <th></th>\n",
       "      <th>Unnamed: 0</th>\n",
       "      <th>ImageID</th>\n",
       "      <th>Source</th>\n",
       "      <th>LabelName</th>\n",
       "      <th>Confidence</th>\n",
       "      <th>XMin</th>\n",
       "      <th>XMax</th>\n",
       "      <th>YMin</th>\n",
       "      <th>YMax</th>\n",
       "      <th>IsOccluded</th>\n",
       "      <th>...</th>\n",
       "      <th>IsDepiction</th>\n",
       "      <th>IsInside</th>\n",
       "      <th>XClick1X</th>\n",
       "      <th>XClick2X</th>\n",
       "      <th>XClick3X</th>\n",
       "      <th>XClick4X</th>\n",
       "      <th>XClick1Y</th>\n",
       "      <th>XClick2Y</th>\n",
       "      <th>XClick3Y</th>\n",
       "      <th>XClick4Y</th>\n",
       "    </tr>\n",
       "  </thead>\n",
       "  <tbody>\n",
       "    <tr>\n",
       "      <th>0</th>\n",
       "      <td>1035</td>\n",
       "      <td>0000a90019e380dc</td>\n",
       "      <td>xclick</td>\n",
       "      <td>/m/0cmf2</td>\n",
       "      <td>1</td>\n",
       "      <td>0.0000</td>\n",
       "      <td>0.922452</td>\n",
       "      <td>0.262697</td>\n",
       "      <td>0.707531</td>\n",
       "      <td>1</td>\n",
       "      <td>...</td>\n",
       "      <td>0</td>\n",
       "      <td>0</td>\n",
       "      <td>0.293308</td>\n",
       "      <td>0.063790</td>\n",
       "      <td>0.000000</td>\n",
       "      <td>0.922452</td>\n",
       "      <td>0.262697</td>\n",
       "      <td>0.707531</td>\n",
       "      <td>0.495622</td>\n",
       "      <td>0.567426</td>\n",
       "    </tr>\n",
       "    <tr>\n",
       "      <th>1</th>\n",
       "      <td>6097</td>\n",
       "      <td>00042d9c8cb5aad4</td>\n",
       "      <td>xclick</td>\n",
       "      <td>/m/0cmf2</td>\n",
       "      <td>1</td>\n",
       "      <td>0.0000</td>\n",
       "      <td>0.207813</td>\n",
       "      <td>0.473437</td>\n",
       "      <td>0.603125</td>\n",
       "      <td>0</td>\n",
       "      <td>...</td>\n",
       "      <td>0</td>\n",
       "      <td>0</td>\n",
       "      <td>0.006250</td>\n",
       "      <td>0.079687</td>\n",
       "      <td>0.207813</td>\n",
       "      <td>0.000000</td>\n",
       "      <td>0.473437</td>\n",
       "      <td>0.603125</td>\n",
       "      <td>0.564063</td>\n",
       "      <td>0.548438</td>\n",
       "    </tr>\n",
       "    <tr>\n",
       "      <th>2</th>\n",
       "      <td>6098</td>\n",
       "      <td>00042d9c8cb5aad4</td>\n",
       "      <td>xclick</td>\n",
       "      <td>/m/0cmf2</td>\n",
       "      <td>1</td>\n",
       "      <td>0.0000</td>\n",
       "      <td>0.659375</td>\n",
       "      <td>0.528125</td>\n",
       "      <td>0.801562</td>\n",
       "      <td>0</td>\n",
       "      <td>...</td>\n",
       "      <td>0</td>\n",
       "      <td>0</td>\n",
       "      <td>0.385937</td>\n",
       "      <td>0.176563</td>\n",
       "      <td>0.000000</td>\n",
       "      <td>0.659375</td>\n",
       "      <td>0.528125</td>\n",
       "      <td>0.801562</td>\n",
       "      <td>0.673438</td>\n",
       "      <td>0.668750</td>\n",
       "    </tr>\n",
       "    <tr>\n",
       "      <th>3</th>\n",
       "      <td>6099</td>\n",
       "      <td>00042d9c8cb5aad4</td>\n",
       "      <td>xclick</td>\n",
       "      <td>/m/0cmf2</td>\n",
       "      <td>1</td>\n",
       "      <td>0.4375</td>\n",
       "      <td>0.967188</td>\n",
       "      <td>0.481250</td>\n",
       "      <td>0.643750</td>\n",
       "      <td>0</td>\n",
       "      <td>...</td>\n",
       "      <td>0</td>\n",
       "      <td>0</td>\n",
       "      <td>0.478125</td>\n",
       "      <td>0.437500</td>\n",
       "      <td>0.967188</td>\n",
       "      <td>0.907813</td>\n",
       "      <td>0.481250</td>\n",
       "      <td>0.562500</td>\n",
       "      <td>0.589063</td>\n",
       "      <td>0.643750</td>\n",
       "    </tr>\n",
       "    <tr>\n",
       "      <th>4</th>\n",
       "      <td>6468</td>\n",
       "      <td>00048f37069b6aa8</td>\n",
       "      <td>xclick</td>\n",
       "      <td>/m/0cmf2</td>\n",
       "      <td>1</td>\n",
       "      <td>0.0000</td>\n",
       "      <td>0.922951</td>\n",
       "      <td>0.185751</td>\n",
       "      <td>0.997455</td>\n",
       "      <td>0</td>\n",
       "      <td>...</td>\n",
       "      <td>0</td>\n",
       "      <td>0</td>\n",
       "      <td>0.009836</td>\n",
       "      <td>0.768852</td>\n",
       "      <td>0.922951</td>\n",
       "      <td>0.000000</td>\n",
       "      <td>0.997455</td>\n",
       "      <td>0.185751</td>\n",
       "      <td>0.722646</td>\n",
       "      <td>0.653944</td>\n",
       "    </tr>\n",
       "  </tbody>\n",
       "</table>\n",
       "<p>5 rows × 22 columns</p>\n",
       "</div>"
      ],
      "text/plain": [
       "   Unnamed: 0           ImageID  Source LabelName  Confidence    XMin  \\\n",
       "0        1035  0000a90019e380dc  xclick  /m/0cmf2           1  0.0000   \n",
       "1        6097  00042d9c8cb5aad4  xclick  /m/0cmf2           1  0.0000   \n",
       "2        6098  00042d9c8cb5aad4  xclick  /m/0cmf2           1  0.0000   \n",
       "3        6099  00042d9c8cb5aad4  xclick  /m/0cmf2           1  0.4375   \n",
       "4        6468  00048f37069b6aa8  xclick  /m/0cmf2           1  0.0000   \n",
       "\n",
       "       XMax      YMin      YMax  IsOccluded  ...  IsDepiction  IsInside  \\\n",
       "0  0.922452  0.262697  0.707531           1  ...            0         0   \n",
       "1  0.207813  0.473437  0.603125           0  ...            0         0   \n",
       "2  0.659375  0.528125  0.801562           0  ...            0         0   \n",
       "3  0.967188  0.481250  0.643750           0  ...            0         0   \n",
       "4  0.922951  0.185751  0.997455           0  ...            0         0   \n",
       "\n",
       "   XClick1X  XClick2X  XClick3X  XClick4X  XClick1Y  XClick2Y  XClick3Y  \\\n",
       "0  0.293308  0.063790  0.000000  0.922452  0.262697  0.707531  0.495622   \n",
       "1  0.006250  0.079687  0.207813  0.000000  0.473437  0.603125  0.564063   \n",
       "2  0.385937  0.176563  0.000000  0.659375  0.528125  0.801562  0.673438   \n",
       "3  0.478125  0.437500  0.967188  0.907813  0.481250  0.562500  0.589063   \n",
       "4  0.009836  0.768852  0.922951  0.000000  0.997455  0.185751  0.722646   \n",
       "\n",
       "   XClick4Y  \n",
       "0  0.567426  \n",
       "1  0.548438  \n",
       "2  0.668750  \n",
       "3  0.643750  \n",
       "4  0.653944  \n",
       "\n",
       "[5 rows x 22 columns]"
      ]
     },
     "execution_count": 2,
     "metadata": {},
     "output_type": "execute_result"
    }
   ],
   "source": [
    "df_train = load_csv_as_dataset(\"data/filtered_csv/train_filtered.csv\")\n",
    "df_train.head()"
   ]
  },
  {
   "cell_type": "code",
   "execution_count": 3,
   "id": "4874cfc5",
   "metadata": {},
   "outputs": [
    {
     "data": {
      "text/html": [
       "<div>\n",
       "<style scoped>\n",
       "    .dataframe tbody tr th:only-of-type {\n",
       "        vertical-align: middle;\n",
       "    }\n",
       "\n",
       "    .dataframe tbody tr th {\n",
       "        vertical-align: top;\n",
       "    }\n",
       "\n",
       "    .dataframe thead th {\n",
       "        text-align: right;\n",
       "    }\n",
       "</style>\n",
       "<table border=\"1\" class=\"dataframe\">\n",
       "  <thead>\n",
       "    <tr style=\"text-align: right;\">\n",
       "      <th></th>\n",
       "      <th>Unnamed: 0</th>\n",
       "      <th>ImageID</th>\n",
       "      <th>Source</th>\n",
       "      <th>LabelName</th>\n",
       "      <th>Confidence</th>\n",
       "      <th>XMin</th>\n",
       "      <th>XMax</th>\n",
       "      <th>YMin</th>\n",
       "      <th>YMax</th>\n",
       "      <th>IsOccluded</th>\n",
       "      <th>IsTruncated</th>\n",
       "      <th>IsGroupOf</th>\n",
       "      <th>IsDepiction</th>\n",
       "      <th>IsInside</th>\n",
       "    </tr>\n",
       "  </thead>\n",
       "  <tbody>\n",
       "    <tr>\n",
       "      <th>0</th>\n",
       "      <td>0</td>\n",
       "      <td>0001eeaf4aed83f9</td>\n",
       "      <td>xclick</td>\n",
       "      <td>/m/0cmf2</td>\n",
       "      <td>1</td>\n",
       "      <td>0.022673</td>\n",
       "      <td>0.964201</td>\n",
       "      <td>0.071038</td>\n",
       "      <td>0.800546</td>\n",
       "      <td>0</td>\n",
       "      <td>0</td>\n",
       "      <td>0</td>\n",
       "      <td>0</td>\n",
       "      <td>0</td>\n",
       "    </tr>\n",
       "    <tr>\n",
       "      <th>1</th>\n",
       "      <td>75</td>\n",
       "      <td>0009bad4d8539bb4</td>\n",
       "      <td>xclick</td>\n",
       "      <td>/m/0cmf2</td>\n",
       "      <td>1</td>\n",
       "      <td>0.294551</td>\n",
       "      <td>0.705449</td>\n",
       "      <td>0.340708</td>\n",
       "      <td>0.515487</td>\n",
       "      <td>0</td>\n",
       "      <td>0</td>\n",
       "      <td>0</td>\n",
       "      <td>0</td>\n",
       "      <td>0</td>\n",
       "    </tr>\n",
       "    <tr>\n",
       "      <th>2</th>\n",
       "      <td>213</td>\n",
       "      <td>0019e544c79847f5</td>\n",
       "      <td>xclick</td>\n",
       "      <td>/m/0cmf2</td>\n",
       "      <td>1</td>\n",
       "      <td>0.000000</td>\n",
       "      <td>0.349558</td>\n",
       "      <td>0.106195</td>\n",
       "      <td>0.396018</td>\n",
       "      <td>0</td>\n",
       "      <td>0</td>\n",
       "      <td>0</td>\n",
       "      <td>0</td>\n",
       "      <td>0</td>\n",
       "    </tr>\n",
       "    <tr>\n",
       "      <th>3</th>\n",
       "      <td>214</td>\n",
       "      <td>0019e544c79847f5</td>\n",
       "      <td>xclick</td>\n",
       "      <td>/m/0cmf2</td>\n",
       "      <td>1</td>\n",
       "      <td>0.538348</td>\n",
       "      <td>0.874631</td>\n",
       "      <td>0.688053</td>\n",
       "      <td>0.909292</td>\n",
       "      <td>0</td>\n",
       "      <td>0</td>\n",
       "      <td>0</td>\n",
       "      <td>0</td>\n",
       "      <td>0</td>\n",
       "    </tr>\n",
       "    <tr>\n",
       "      <th>4</th>\n",
       "      <td>578</td>\n",
       "      <td>007384da2ed0464f</td>\n",
       "      <td>xclick</td>\n",
       "      <td>/m/0cmf2</td>\n",
       "      <td>1</td>\n",
       "      <td>0.000000</td>\n",
       "      <td>1.000000</td>\n",
       "      <td>0.372917</td>\n",
       "      <td>0.768750</td>\n",
       "      <td>0</td>\n",
       "      <td>1</td>\n",
       "      <td>0</td>\n",
       "      <td>0</td>\n",
       "      <td>0</td>\n",
       "    </tr>\n",
       "  </tbody>\n",
       "</table>\n",
       "</div>"
      ],
      "text/plain": [
       "   Unnamed: 0           ImageID  Source LabelName  Confidence      XMin  \\\n",
       "0           0  0001eeaf4aed83f9  xclick  /m/0cmf2           1  0.022673   \n",
       "1          75  0009bad4d8539bb4  xclick  /m/0cmf2           1  0.294551   \n",
       "2         213  0019e544c79847f5  xclick  /m/0cmf2           1  0.000000   \n",
       "3         214  0019e544c79847f5  xclick  /m/0cmf2           1  0.538348   \n",
       "4         578  007384da2ed0464f  xclick  /m/0cmf2           1  0.000000   \n",
       "\n",
       "       XMax      YMin      YMax  IsOccluded  IsTruncated  IsGroupOf  \\\n",
       "0  0.964201  0.071038  0.800546           0            0          0   \n",
       "1  0.705449  0.340708  0.515487           0            0          0   \n",
       "2  0.349558  0.106195  0.396018           0            0          0   \n",
       "3  0.874631  0.688053  0.909292           0            0          0   \n",
       "4  1.000000  0.372917  0.768750           0            1          0   \n",
       "\n",
       "   IsDepiction  IsInside  \n",
       "0            0         0  \n",
       "1            0         0  \n",
       "2            0         0  \n",
       "3            0         0  \n",
       "4            0         0  "
      ]
     },
     "execution_count": 3,
     "metadata": {},
     "output_type": "execute_result"
    }
   ],
   "source": [
    "df_validation = load_csv_as_dataset(\"data/filtered_csv/validation_filtered.csv\")\n",
    "df_validation.head()"
   ]
  },
  {
   "cell_type": "code",
   "execution_count": 4,
   "id": "189f619a",
   "metadata": {},
   "outputs": [
    {
     "data": {
      "text/plain": [
       "((1690, 22), (325, 14))"
      ]
     },
     "execution_count": 4,
     "metadata": {},
     "output_type": "execute_result"
    }
   ],
   "source": [
    "df_train.shape, df_validation.shape"
   ]
  },
  {
   "cell_type": "markdown",
   "id": "1f6a6216",
   "metadata": {},
   "source": [
    "### Data Split into Test and Train\n",
    "\n",
    "As we do not have a test dataset and in order to train our model, will split our *df_train_cleansed* dataset to create the test and train datasets"
   ]
  },
  {
   "cell_type": "code",
   "execution_count": 5,
   "id": "9cfc2ca3",
   "metadata": {},
   "outputs": [],
   "source": [
    "train, test = train_test_split(df_train, test_size=0.2, random_state=42)"
   ]
  },
  {
   "cell_type": "code",
   "execution_count": 6,
   "id": "6ea72adf",
   "metadata": {},
   "outputs": [
    {
     "data": {
      "text/plain": [
       "((1352, 22), (338, 22))"
      ]
     },
     "execution_count": 6,
     "metadata": {},
     "output_type": "execute_result"
    }
   ],
   "source": [
    "# Sizes of our new sets\n",
    "train.shape, test.shape"
   ]
  },
  {
   "cell_type": "markdown",
   "id": "641b1693",
   "metadata": {},
   "source": [
    "### Create a folder for the test images\n",
    "\n",
    "Now we want to create a folder with our test images as train and test images are in the same folder. For this we will need to grab our ImagesID of our test dataset and create the folder, following by moving the train images to our new folder"
   ]
  },
  {
   "cell_type": "code",
   "execution_count": 7,
   "id": "20376aa6",
   "metadata": {},
   "outputs": [
    {
     "data": {
      "text/plain": [
       "(1352, 338)"
      ]
     },
     "execution_count": 7,
     "metadata": {},
     "output_type": "execute_result"
    }
   ],
   "source": [
    "test_img_ids, train_img_ids = create_test_folder(test=test, train=train,)\n",
    "\n",
    "len(train_img_ids), len(test_img_ids)"
   ]
  },
  {
   "cell_type": "markdown",
   "id": "171f0549",
   "metadata": {},
   "source": [
    "**Some ImageID's will be present in both datasets as some image are same but not the bounding boxes, so if the ID is in both datasets, we will copy the image. If not, we will move it as the image will have only one bounding box**"
   ]
  },
  {
   "cell_type": "code",
   "execution_count": 8,
   "id": "9273c4fe",
   "metadata": {},
   "outputs": [
    {
     "name": "stdout",
     "output_type": "stream",
     "text": [
      "\n",
      "Copied files: 133\n",
      "\n",
      "Moved files: 127\n"
     ]
    }
   ],
   "source": [
    "images_moved = move_images_to_test_folder(test_img_ids=test_img_ids, \n",
    "                           train_img_ids=train_img_ids,\n",
    "                           source_folder=\"unzipped/trainImages/train/data/*.jpg\",\n",
    "                           dest_folder=\"unzipped/testImages/data\")\n",
    "\n",
    "print(f\"\\nCopied files: {images_moved[0]}\")\n",
    "print(f\"\\nMoved files: {images_moved[1]}\")"
   ]
  },
  {
   "cell_type": "markdown",
   "id": "7dee53a9",
   "metadata": {},
   "source": [
    "### Checking number of Images for test and train"
   ]
  },
  {
   "cell_type": "code",
   "execution_count": 9,
   "id": "364cfe5d",
   "metadata": {},
   "outputs": [
    {
     "data": {
      "text/plain": [
       "773"
      ]
     },
     "execution_count": 9,
     "metadata": {},
     "output_type": "execute_result"
    }
   ],
   "source": [
    "train_ids = []\n",
    "\n",
    "train_path = \"unzipped/trainImages/train/data/*.jpg\"\n",
    "train_folder = glob.glob(train_path)\n",
    "\n",
    "for img in train_folder:\n",
    "    id = img[32:48]\n",
    "    train_ids.append(id)\n",
    "    \n",
    "len(train_ids)"
   ]
  },
  {
   "cell_type": "code",
   "execution_count": 10,
   "id": "8ca70b0e",
   "metadata": {},
   "outputs": [
    {
     "data": {
      "text/plain": [
       "260"
      ]
     },
     "execution_count": 10,
     "metadata": {},
     "output_type": "execute_result"
    }
   ],
   "source": [
    "test_ids = []\n",
    "\n",
    "test_path = \"unzipped/testImages/data/*.jpg\"\n",
    "test_folder = glob.glob(test_path)\n",
    "\n",
    "for img in test_folder:\n",
    "    id = img[25:41]\n",
    "    test_ids.append(id)\n",
    "    \n",
    "len(test_ids)"
   ]
  },
  {
   "cell_type": "code",
   "execution_count": 11,
   "id": "565b1b47",
   "metadata": {},
   "outputs": [
    {
     "data": {
      "text/plain": [
       "(1352, 338)"
      ]
     },
     "execution_count": 11,
     "metadata": {},
     "output_type": "execute_result"
    }
   ],
   "source": [
    "train_df_ids = train.ImageID.values.tolist()\n",
    "test_df_ids = test.ImageID.values.tolist()\n",
    "\n",
    "\n",
    "len(train_df_ids), len(test_df_ids)"
   ]
  },
  {
   "cell_type": "markdown",
   "id": "253d2d98",
   "metadata": {},
   "source": [
    "**Number of ImageID's is not the same because the ImageID can be duplicated, as we can have multiple bounding boxes in an image. Thus duplicated ImageID will mean that the image has more than one bounding box.**\n",
    "\n",
    "**Finally, we want to ensure that all test and train id images are the same we have in our test and train dataset.**"
   ]
  },
  {
   "cell_type": "code",
   "execution_count": 12,
   "id": "2d35e611",
   "metadata": {},
   "outputs": [
    {
     "data": {
      "text/plain": [
       "773"
      ]
     },
     "execution_count": 12,
     "metadata": {},
     "output_type": "execute_result"
    }
   ],
   "source": [
    "train_both = set(train_df_ids).intersection(train_img_ids)\n",
    "len(train_both)"
   ]
  },
  {
   "cell_type": "code",
   "execution_count": 13,
   "id": "f8d73f5c",
   "metadata": {},
   "outputs": [
    {
     "data": {
      "text/plain": [
       "260"
      ]
     },
     "execution_count": 13,
     "metadata": {},
     "output_type": "execute_result"
    }
   ],
   "source": [
    "test_both = set(test_df_ids).intersection(test_img_ids)\n",
    "len(test_both)"
   ]
  },
  {
   "cell_type": "markdown",
   "id": "605cba9a",
   "metadata": {},
   "source": [
    "**Finally, we will save our train and test datasets as csv's in order to use them from now on in our project**"
   ]
  },
  {
   "cell_type": "code",
   "execution_count": 14,
   "id": "93b78890",
   "metadata": {},
   "outputs": [
    {
     "name": "stdout",
     "output_type": "stream",
     "text": [
      "Training dataset saved to data/csv/train.csv\n",
      "Test dataset saved to data/csv/test.csv\n"
     ]
    }
   ],
   "source": [
    "save_datasets_to_csv(train_df=train, test_df=test, folder_path=\"data/csv\")"
   ]
  }
 ],
 "metadata": {
  "kernelspec": {
   "display_name": "Python 3 (ipykernel)",
   "language": "python",
   "name": "python3"
  },
  "language_info": {
   "codemirror_mode": {
    "name": "ipython",
    "version": 3
   },
   "file_extension": ".py",
   "mimetype": "text/x-python",
   "name": "python",
   "nbconvert_exporter": "python",
   "pygments_lexer": "ipython3",
   "version": "3.11.4"
  }
 },
 "nbformat": 4,
 "nbformat_minor": 5
}
