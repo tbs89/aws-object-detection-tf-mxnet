{
 "cells": [
  {
   "cell_type": "markdown",
   "id": "2ed0ed89",
   "metadata": {},
   "source": [
    "# Python Dash App Development"
   ]
  },
  {
   "cell_type": "markdown",
   "id": "e3cdcc8a",
   "metadata": {},
   "source": [
    "In this notebook we are going to create a simple dash app in order to provide an interface for an user.\n",
    "\n",
    "App will be pretty simple and will allow the user to upload or drag and drop and image to inference"
   ]
  },
  {
   "cell_type": "code",
   "execution_count": 1,
   "id": "16be67f3",
   "metadata": {},
   "outputs": [],
   "source": [
    "import dash\n",
    "from dash import Dash, dcc, html, Input, Output, State, callback\n",
    "from dash.dependencies import Input, Output, State\n",
    "import datetime\n",
    "import requests\n",
    "import json\n",
    "import base64\n",
    "import io\n",
    "import matplotlib.pyplot as plt\n",
    "import matplotlib.image as mpimg\n",
    "import random\n",
    "from PIL import Image\n",
    "import numpy as np\n",
    "\n",
    "\n",
    "app = dash.Dash(__name__, external_stylesheets=['https://codepen.io/chriddyp/pen/bWLwgP.css'])\n"
   ]
  },
  {
   "cell_type": "code",
   "execution_count": 2,
   "id": "bff8c0d2",
   "metadata": {},
   "outputs": [],
   "source": [
    "API_ENDPOINT = \"https://grv4d32y32.execute-api.us-east-2.amazonaws.com/production_airplane/detect-airplane\""
   ]
  },
  {
   "cell_type": "markdown",
   "id": "2aad4468",
   "metadata": {},
   "source": [
    "### Functions"
   ]
  },
  {
   "cell_type": "code",
   "execution_count": 3,
   "id": "a358b648",
   "metadata": {},
   "outputs": [],
   "source": [
    "# Function to plot\n",
    "def draw_bounding_boxes_local(image_file, detections, threshold=0.3):\n",
    "    image = np.array(Image.open(image_file))\n",
    "    \n",
    "    fig, ax = plt.subplots(figsize=(10, 10))\n",
    "    ax.imshow(image)\n",
    "    \n",
    "    image_height, image_width = image.shape[:2]\n",
    "    assigned_colors = dict()\n",
    "    detected_count = 0\n",
    "    \n",
    "    for detection in detections:\n",
    "        klass, score, x0, y0, x1, y1 = detection\n",
    "        if score < threshold:\n",
    "            continue\n",
    "        \n",
    "        detected_count += 1\n",
    "        class_id = int(klass)\n",
    "        \n",
    "        if class_id not in assigned_colors:\n",
    "            assigned_colors[class_id] = random.random(), random.random(), random.random()\n",
    "            \n",
    "        xmin = int(x0 * image_width)\n",
    "        ymin = int(y0 * image_height)\n",
    "        xmax = int(x1 * image_width)\n",
    "        ymax = int(y1 * image_height)\n",
    "        \n",
    "        bounding_box = plt.Rectangle(\n",
    "            (xmin, ymin),\n",
    "            xmax - xmin,\n",
    "            ymax - ymin,\n",
    "            fill=False,\n",
    "            edgecolor=assigned_colors[class_id],\n",
    "            linewidth=2.5\n",
    "        )\n",
    "        \n",
    "        ax.add_patch(bounding_box)\n",
    "        ax.text(\n",
    "            xmin,\n",
    "            ymin - 2,\n",
    "            \"{:.3f}\".format(score),\n",
    "            bbox=dict(facecolor=(1, 0, 0, 1), alpha=0.5),\n",
    "            color=\"white\"\n",
    "        )\n",
    "    ax.axis('off')  \n",
    "\n",
    "    if detected_count > 1:\n",
    "        print(f\"Model detected {detected_count} airplanes - Threshold: {threshold}\")\n",
    "    elif detected_count == 0:\n",
    "        print(f\"{detected_count} airplane detected - Threshold: {threshold}\")\n",
    "    else:\n",
    "        print(f\"Model detected only {detected_count} airplane - Threshold: {threshold}\")\n",
    "\n",
    "    buf = io.BytesIO()\n",
    "    plt.tight_layout()\n",
    "    plt.savefig(buf, format=\"JPEG\", bbox_inches='tight', pad_inches=0)\n",
    "    plt.close()\n",
    "\n",
    "    image_base64 = base64.b64encode(buf.getvalue()).decode()\n",
    "    buf.close()\n",
    "\n",
    "    return image_base64\n",
    "\n",
    "\n",
    "    \n",
    "    \n",
    "# Function to get predictions from API\n",
    "def get_detections_from_api(encoded_image_data, api_url):\n",
    "    headers = {'Content-Type': 'application/jpeg'}\n",
    "    response = requests.post(api_url, data=encoded_image_data, headers=headers)\n",
    "    if response.status_code == 200:\n",
    "        body_content_string = response.json()['body']\n",
    "        actual_detections_content = json.loads(body_content_string)\n",
    "        actual_detections = actual_detections_content['detections']\n",
    "        return actual_detections\n",
    "    else:\n",
    "        print(f\"Request failed with status code {response.status_code}: {response.text}\")\n",
    "        return None \n",
    "\n",
    "\n",
    "# Send image for prediction and display bounding boxes\n",
    "def parse_contents(contents, filename, date):\n",
    "    content_type, content_string = contents.split(',')\n",
    "    decoded = base64.b64decode(content_string)\n",
    "    detections = get_detections_from_api(decoded, API_ENDPOINT)\n",
    "    \n",
    "    buffer = io.BytesIO(decoded)\n",
    "    buffer.seek(0)\n",
    "    \n",
    "    image_base64 = draw_bounding_boxes_local(buffer, detections)\n",
    "    \n",
    "    return html.Div([\n",
    "        html.H5(filename),\n",
    "        html.H6(datetime.datetime.fromtimestamp(date)),\n",
    "        html.Img(src=f\"data:image/jpeg;base64,{image_base64}\", style={'maxWidth': '100%', 'margin': 'auto'}),\n",
    "        html.Hr(),\n",
    "    ])\n",
    "\n",
    "\n"
   ]
  },
  {
   "cell_type": "code",
   "execution_count": 4,
   "id": "03c5b832",
   "metadata": {},
   "outputs": [
    {
     "data": {
      "text/html": [
       "\n",
       "        <iframe\n",
       "            width=\"100%\"\n",
       "            height=\"650\"\n",
       "            src=\"http://127.0.0.1:8050/\"\n",
       "            frameborder=\"0\"\n",
       "            allowfullscreen\n",
       "            \n",
       "        ></iframe>\n",
       "        "
      ],
      "text/plain": [
       "<IPython.lib.display.IFrame at 0x10f43f750>"
      ]
     },
     "metadata": {},
     "output_type": "display_data"
    },
    {
     "name": "stdout",
     "output_type": "stream",
     "text": [
      "Model detected only 1 airplane - Threshold: 0.3\n",
      "Model detected 4 airplanes - Threshold: 0.3\n"
     ]
    }
   ],
   "source": [
    "# Layout\n",
    "app.layout = html.Div([\n",
    "    dcc.Upload(\n",
    "        id='upload-image',\n",
    "        children=html.Div([\n",
    "            'Drag and Drop or ',\n",
    "            html.A('Select Files')\n",
    "        ]),\n",
    "        style={\n",
    "            'width': '100%',\n",
    "            'height': '60px',\n",
    "            'lineHeight': '60px',\n",
    "            'borderWidth': '1px',\n",
    "            'borderStyle': 'dashed',\n",
    "            'borderRadius': '5px',\n",
    "            'textAlign': 'center',\n",
    "            'margin': '10px',\n",
    "            'backgroundColor': '#f7f7f7'\n",
    "        },\n",
    "        multiple=False\n",
    "    ),\n",
    "    html.Div(id='output-image-upload', style={'textAlign': 'center'}),\n",
    "\n",
    "], style={\n",
    "    'fontFamily': 'Arial, sans-serif',\n",
    "    'background': '#f1f1f1',\n",
    "    'height': '100vh',\n",
    "    'padding': '20px'\n",
    "})\n",
    "\n",
    "@app.callback(Output('output-image-upload', 'children'),\n",
    "              Input('upload-image', 'contents'),\n",
    "              State('upload-image', 'filename'),\n",
    "              State('upload-image', 'last_modified'))\n",
    "def update_output(contents, name, date):\n",
    "    if contents is not None:\n",
    "        return parse_contents(contents, name, date)\n",
    "\n",
    "if __name__ == '__main__':\n",
    "    app.run_server(debug=True, open_browser=True)\n",
    "    \n",
    "# URL: http://127.0.0.1:8050/"
   ]
  },
  {
   "cell_type": "code",
   "execution_count": null,
   "id": "ac46c70c",
   "metadata": {},
   "outputs": [],
   "source": []
  }
 ],
 "metadata": {
  "kernelspec": {
   "display_name": "Python 3 (ipykernel)",
   "language": "python",
   "name": "python3"
  },
  "language_info": {
   "codemirror_mode": {
    "name": "ipython",
    "version": 3
   },
   "file_extension": ".py",
   "mimetype": "text/x-python",
   "name": "python",
   "nbconvert_exporter": "python",
   "pygments_lexer": "ipython3",
   "version": "3.11.4"
  }
 },
 "nbformat": 4,
 "nbformat_minor": 5
}
